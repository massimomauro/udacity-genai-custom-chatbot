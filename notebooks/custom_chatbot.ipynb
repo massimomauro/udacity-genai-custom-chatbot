{
 "cells": [
  {
   "cell_type": "markdown",
   "metadata": {},
   "source": [
    "# Custom Chatbot with RAG\n",
    "\n",
    "This repository contains a minimal example of building a **Retrieval‑Augmented Generation (RAG)** chatbot that answers questions about a custom knowledge base – in this case, fictional character descriptions stored in `data/character_descriptions.csv`.\n",
    "\n",
    "The notebook illustrates how to:\n",
    "\n",
    "1. Turn raw CSV data into dense **OpenAI embeddings**\n",
    "2. Perform a lightweight **similarity search** to retrieve the most relevant chunks\n",
    "3. Build a token‑aware **prompt** that feeds the retrieved context to an LLM\n",
    "4. Compare answers *with* and *without* retrieval to see the gain in factuality\n",
    "\n",
    "## Why this dataset?\n",
    "\n",
    "* Because it is different from the Wikipedia example seen in the lesson, thus requires a different preparation phase\n",
    "* Because it contains totally invented content, thus it's a good dataset to show the effectiveness of RAG"
   ]
  },
  {
   "cell_type": "code",
   "execution_count": 1,
   "metadata": {},
   "outputs": [
    {
     "data": {
      "text/plain": [
       "True"
      ]
     },
     "execution_count": 1,
     "metadata": {},
     "output_type": "execute_result"
    }
   ],
   "source": [
    "import pandas as pd\n",
    "import numpy as np\n",
    "import openai\n",
    "from openai.embeddings_utils import get_embedding, distances_from_embeddings\n",
    "import tiktoken\n",
    "import os\n",
    "from dotenv import load_dotenv\n",
    "load_dotenv()"
   ]
  },
  {
   "cell_type": "code",
   "execution_count": 2,
   "metadata": {},
   "outputs": [],
   "source": [
    "openai.api_base = os.environ.get(\"OPENAI_API_BASE\")\n",
    "openai.api_key = os.environ.get(\"OPENAI_API_KEY\")\n",
    "\n",
    "if not openai.api_base or not openai.api_key:\n",
    "    raise ValueError(\"OPENAI_API_BASE and OPENAI_API_KEY environment variables must be set.\")"
   ]
  },
  {
   "cell_type": "markdown",
   "metadata": {},
   "source": [
    "# STEP 1: Prepare dataset"
   ]
  },
  {
   "cell_type": "code",
   "execution_count": 3,
   "metadata": {},
   "outputs": [],
   "source": [
    "df = pd.read_csv('../data/character_descriptions.csv')\n",
    "# df.head(20)"
   ]
  },
  {
   "cell_type": "code",
   "execution_count": 5,
   "metadata": {},
   "outputs": [
    {
     "name": "stdout",
     "output_type": "stream",
     "text": [
      "NAME: Emily\n",
      "DESCRIPTION: A young woman in her early 20s, Emily is an aspiring actress and Alice's daughter. She has a bubbly personality and a quick wit, but struggles with self-doubt and insecurity. She's also in a relationship with George.\n",
      "MEDIUM: Play\n",
      "SETTING: England\n"
     ]
    }
   ],
   "source": [
    "# Create a new dataframe with concatenated text\n",
    "df_combined = pd.DataFrame({\n",
    "    'text': df.apply(lambda row: \n",
    "                      f\"NAME: {row['Name']}\\n\"\n",
    "                      f\"DESCRIPTION: {row['Description']}\\n\"\n",
    "                      f\"MEDIUM: {row['Medium']}\\n\"\n",
    "                      f\"SETTING: {row['Setting']}\", \n",
    "                      axis=1)\n",
    "})\n",
    "\n",
    "# Display the first few rows\n",
    "df_combined.head()\n",
    "print(df_combined.iloc[0]['text'])"
   ]
  },
  {
   "cell_type": "markdown",
   "metadata": {},
   "source": [
    "# STEP 2:  Create embeddings"
   ]
  },
  {
   "cell_type": "code",
   "execution_count": 6,
   "metadata": {},
   "outputs": [
    {
     "data": {
      "text/html": [
       "<div>\n",
       "<style scoped>\n",
       "    .dataframe tbody tr th:only-of-type {\n",
       "        vertical-align: middle;\n",
       "    }\n",
       "\n",
       "    .dataframe tbody tr th {\n",
       "        vertical-align: top;\n",
       "    }\n",
       "\n",
       "    .dataframe thead th {\n",
       "        text-align: right;\n",
       "    }\n",
       "</style>\n",
       "<table border=\"1\" class=\"dataframe\">\n",
       "  <thead>\n",
       "    <tr style=\"text-align: right;\">\n",
       "      <th></th>\n",
       "      <th>text</th>\n",
       "      <th>embeddings</th>\n",
       "    </tr>\n",
       "  </thead>\n",
       "  <tbody>\n",
       "    <tr>\n",
       "      <th>0</th>\n",
       "      <td>NAME: Emily\\nDESCRIPTION: A young woman in her...</td>\n",
       "      <td>[-0.01714273914694786, -0.005702167749404907, ...</td>\n",
       "    </tr>\n",
       "    <tr>\n",
       "      <th>1</th>\n",
       "      <td>NAME: Jack\\nDESCRIPTION: A middle-aged man in ...</td>\n",
       "      <td>[0.005255976226180792, -0.01799955405294895, -...</td>\n",
       "    </tr>\n",
       "    <tr>\n",
       "      <th>2</th>\n",
       "      <td>NAME: Alice\\nDESCRIPTION: A woman in her late ...</td>\n",
       "      <td>[0.004895723424851894, -0.0010099101345986128,...</td>\n",
       "    </tr>\n",
       "    <tr>\n",
       "      <th>3</th>\n",
       "      <td>NAME: Tom\\nDESCRIPTION: A man in his 50s, Tom ...</td>\n",
       "      <td>[0.013725598342716694, -0.013712245970964432, ...</td>\n",
       "    </tr>\n",
       "    <tr>\n",
       "      <th>4</th>\n",
       "      <td>NAME: Sarah\\nDESCRIPTION: A woman in her mid-2...</td>\n",
       "      <td>[-0.020092617720365524, -0.0203151423484087, -...</td>\n",
       "    </tr>\n",
       "  </tbody>\n",
       "</table>\n",
       "</div>"
      ],
      "text/plain": [
       "                                                text  \\\n",
       "0  NAME: Emily\\nDESCRIPTION: A young woman in her...   \n",
       "1  NAME: Jack\\nDESCRIPTION: A middle-aged man in ...   \n",
       "2  NAME: Alice\\nDESCRIPTION: A woman in her late ...   \n",
       "3  NAME: Tom\\nDESCRIPTION: A man in his 50s, Tom ...   \n",
       "4  NAME: Sarah\\nDESCRIPTION: A woman in her mid-2...   \n",
       "\n",
       "                                          embeddings  \n",
       "0  [-0.01714273914694786, -0.005702167749404907, ...  \n",
       "1  [0.005255976226180792, -0.01799955405294895, -...  \n",
       "2  [0.004895723424851894, -0.0010099101345986128,...  \n",
       "3  [0.013725598342716694, -0.013712245970964432, ...  \n",
       "4  [-0.020092617720365524, -0.0203151423484087, -...  "
      ]
     },
     "execution_count": 6,
     "metadata": {},
     "output_type": "execute_result"
    }
   ],
   "source": [
    "EMBEDDING_MODEL_NAME = \"text-embedding-ada-002\"\n",
    "BATCH_SIZE = 100\n",
    "embeddings = []\n",
    "for i in range(0, len(df_combined), BATCH_SIZE):\n",
    "    response = openai.Embedding.create(\n",
    "        engine=EMBEDDING_MODEL_NAME,\n",
    "        input=df_combined.iloc[i : i + BATCH_SIZE][\"text\"].tolist(),\n",
    "    )\n",
    "    embeddings.extend([d[\"embedding\"] for d in response[\"data\"]])\n",
    "\n",
    "df_combined[\"embeddings\"] = embeddings\n",
    "df_combined.head()"
   ]
  },
  {
   "cell_type": "markdown",
   "metadata": {},
   "source": [
    "# STEP 3:  Similarity‑search helper"
   ]
  },
  {
   "cell_type": "code",
   "execution_count": 7,
   "metadata": {},
   "outputs": [],
   "source": [
    "def get_rows_sorted_by_relevance(question: str, df) -> pd.DataFrame:\n",
    "    \"\"\"\n",
    "    Return a copy of df sorted from most → least relevant for 'question'\n",
    "    based on cosine distance between embeddings.\n",
    "    \"\"\"\n",
    "    q_emb = get_embedding(question, engine=EMBEDDING_MODEL_NAME)\n",
    "    df_tmp = df.copy()\n",
    "    df_tmp[\"distance\"] = distances_from_embeddings(\n",
    "        q_emb, df_tmp[\"embeddings\"].values, distance_metric=\"cosine\"\n",
    "    )\n",
    "    return df_tmp.sort_values(\"distance\")"
   ]
  },
  {
   "cell_type": "code",
   "execution_count": 8,
   "metadata": {},
   "outputs": [
    {
     "data": {
      "text/html": [
       "<div>\n",
       "<style scoped>\n",
       "    .dataframe tbody tr th:only-of-type {\n",
       "        vertical-align: middle;\n",
       "    }\n",
       "\n",
       "    .dataframe tbody tr th {\n",
       "        vertical-align: top;\n",
       "    }\n",
       "\n",
       "    .dataframe thead th {\n",
       "        text-align: right;\n",
       "    }\n",
       "</style>\n",
       "<table border=\"1\" class=\"dataframe\">\n",
       "  <thead>\n",
       "    <tr style=\"text-align: right;\">\n",
       "      <th></th>\n",
       "      <th>text</th>\n",
       "      <th>distance</th>\n",
       "    </tr>\n",
       "  </thead>\n",
       "  <tbody>\n",
       "    <tr>\n",
       "      <th>0</th>\n",
       "      <td>NAME: Emily\\nDESCRIPTION: A young woman in her...</td>\n",
       "      <td>0.122136</td>\n",
       "    </tr>\n",
       "    <tr>\n",
       "      <th>2</th>\n",
       "      <td>NAME: Alice\\nDESCRIPTION: A woman in her late ...</td>\n",
       "      <td>0.162361</td>\n",
       "    </tr>\n",
       "    <tr>\n",
       "      <th>5</th>\n",
       "      <td>NAME: George\\nDESCRIPTION: A man in his early ...</td>\n",
       "      <td>0.181894</td>\n",
       "    </tr>\n",
       "  </tbody>\n",
       "</table>\n",
       "</div>"
      ],
      "text/plain": [
       "                                                text  distance\n",
       "0  NAME: Emily\\nDESCRIPTION: A young woman in her...  0.122136\n",
       "2  NAME: Alice\\nDESCRIPTION: A woman in her late ...  0.162361\n",
       "5  NAME: George\\nDESCRIPTION: A man in his early ...  0.181894"
      ]
     },
     "execution_count": 8,
     "metadata": {},
     "output_type": "execute_result"
    }
   ],
   "source": [
    "get_rows_sorted_by_relevance(\"Who is Emily?\", df_combined).head(3)[[\"text\",\"distance\"]]"
   ]
  },
  {
   "cell_type": "markdown",
   "metadata": {},
   "source": [
    "# STEP 4:  Prompt builder"
   ]
  },
  {
   "cell_type": "code",
   "execution_count": 9,
   "metadata": {},
   "outputs": [],
   "source": [
    "tokenizer = tiktoken.get_encoding(\"cl100k_base\")\n",
    "\n",
    "def create_prompt(question: str,\n",
    "                  df,\n",
    "                  max_token_count: int = 1800) -> str:\n",
    "    \"\"\"\n",
    "    Build a prompt that contains as much relevant context as will fit\n",
    "    inside 'max_token_count' tokens.\n",
    "    \"\"\"\n",
    "    template = (\n",
    "        \"Answer the question based on the context below, and if the \"\n",
    "        \"question cannot be answered from that context, say \\\"I don't know\\\".\\n\\n\"\n",
    "        \"Context:\\n\\n{context}\\n\\n\"\n",
    "        \"---\\n\\n\"\n",
    "        \"Question: {question}\\n\"\n",
    "        \"Answer:\"\n",
    "    )\n",
    "\n",
    "    used_tokens = len(tokenizer.encode(template.format(context=\"\", question=question)))\n",
    "    context_blocks = []\n",
    "    for row_text in get_rows_sorted_by_relevance(question, df)[\"text\"]:\n",
    "        tokens_needed = len(tokenizer.encode(row_text))\n",
    "        if used_tokens + tokens_needed > max_token_count:\n",
    "            break\n",
    "        context_blocks.append(row_text)\n",
    "        used_tokens += tokens_needed\n",
    "\n",
    "    context_str = \"\\n\\n###\\n\\n\".join(context_blocks)\n",
    "    return template.format(context=context_str, question=question)"
   ]
  },
  {
   "cell_type": "markdown",
   "metadata": {},
   "source": [
    "# STEP 5: Ask questions "
   ]
  },
  {
   "cell_type": "code",
   "execution_count": 10,
   "metadata": {},
   "outputs": [],
   "source": [
    "COMPLETION_MODEL_NAME = \"gpt-3.5-turbo-instruct\"\n",
    "\n",
    "def answer_question(question: str,\n",
    "                    df,\n",
    "                    max_prompt_tokens: int = 1800,\n",
    "                    max_answer_tokens: int = 150) -> str:\n",
    "    prompt = create_prompt(question, df, max_prompt_tokens)\n",
    "    try:\n",
    "        response = openai.Completion.create(\n",
    "            model=COMPLETION_MODEL_NAME,\n",
    "            prompt=prompt,\n",
    "            max_tokens=max_answer_tokens,\n",
    "        )\n",
    "        return response[\"choices\"][0][\"text\"].strip()\n",
    "    except Exception as ex:\n",
    "        print(f\"OpenAI error: {ex}\")\n",
    "        return \"\""
   ]
  },
  {
   "cell_type": "code",
   "execution_count": 11,
   "metadata": {},
   "outputs": [
    {
     "name": "stdout",
     "output_type": "stream",
     "text": [
      "Q: Who is Emily?\n",
      "A: Emily is an aspiring actress and Alice's daughter. She's in a relationship with George.\n",
      "\n",
      "Q: What is Jack's occupation?\n",
      "A: Businessman\n",
      "\n",
      "Q: What is Max medium and setting?\n",
      "A: Max's medium is a Limited Series and the setting is Australia.\n",
      "\n"
     ]
    }
   ],
   "source": [
    "questions = [\n",
    "    \"Who is Emily?\",\n",
    "    \"What is Jack's occupation?\",\n",
    "    \"What is Max medium and setting?\",\n",
    "]\n",
    "\n",
    "for question in questions:\n",
    "    print(f\"Q: {question}\")\n",
    "    print(f\"A: {answer_question(question, df_combined)}\\n\")"
   ]
  },
  {
   "cell_type": "markdown",
   "metadata": {},
   "source": [
    "# Compare to an un‑contextualized answer"
   ]
  },
  {
   "cell_type": "code",
   "execution_count": 12,
   "metadata": {},
   "outputs": [
    {
     "name": "stdout",
     "output_type": "stream",
     "text": [
      "Without context: It is not possible for me to accurately answer this question as I do not have enough information. Emily could refer to many different people.\n",
      "With context:    A young woman in her early 20s, Emily is an aspiring actress and Alice's daughter. She has a bubbly personality and a quick wit, but struggles with self-doubt and insecurity. She's also in a relationship with George. (Note: Emily is mentioned in the second line of the context)\n",
      "Without context: I'm sorry, I cannot accurately answer this question as there is not enough information provided. Please provide more context.\n",
      "With context:    Successful businessman.\n",
      "Without context: Max medium and setting refers to the maximum level or intensity at which a particular medium or setting can operate. This could apply to things like the volume level on electronic devices, the heat setting on a stove, or the brightness level on a computer screen\n",
      "With context:    Max's medium is a limited series and the setting is Australia.\n"
     ]
    }
   ],
   "source": [
    "def compare_answers(question: str, df, max_tokens: int = 50):\n",
    "    baseline = openai.Completion.create(\n",
    "        model=COMPLETION_MODEL_NAME,\n",
    "        prompt=f\"Question: {question}\\nAnswer:\\n\",\n",
    "        max_tokens=max_tokens\n",
    "    )[\"choices\"][0][\"text\"].strip()\n",
    "\n",
    "    custom = answer_question(question, df)\n",
    "\n",
    "    print(\"Without context:\", baseline)\n",
    "    print(\"With context:   \", custom)\n",
    "\n",
    "# Example usage\n",
    "for question in questions:\n",
    "    compare_answers(question, df_combined)"
   ]
  }
 ],
 "metadata": {
  "kernelspec": {
   "display_name": "udacity-genai-custom-chatbot",
   "language": "python",
   "name": "python3"
  },
  "language_info": {
   "codemirror_mode": {
    "name": "ipython",
    "version": 3
   },
   "file_extension": ".py",
   "mimetype": "text/x-python",
   "name": "python",
   "nbconvert_exporter": "python",
   "pygments_lexer": "ipython3",
   "version": "3.9.6"
  }
 },
 "nbformat": 4,
 "nbformat_minor": 2
}
